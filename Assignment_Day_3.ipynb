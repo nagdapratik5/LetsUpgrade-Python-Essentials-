{
  "nbformat": 4,
  "nbformat_minor": 0,
  "metadata": {
    "colab": {
      "name": "Assignment Day 3.ipynb",
      "provenance": [],
      "collapsed_sections": []
    },
    "kernelspec": {
      "name": "python3",
      "display_name": "Python 3"
    }
  },
  "cells": [
    {
      "cell_type": "markdown",
      "metadata": {
        "id": "b4lAarDQnUT_",
        "colab_type": "text"
      },
      "source": [
        "**Question 1**\n",
        "\n",
        "You all are Pilots, you want to land a plane safely, so altitude required for landing a plane is\n",
        "1000ft, it it is less than tell pilot to land the plane, or it is more than that but less than 5000ft ask\n",
        "the pilot to “come down to 1000ft”, else if it more than 5000ft ask the pilot to “go around and trylater”\n",
        "\n",
        "Example : Input - 1000        \n",
        "          Output - Safe to Land\n",
        "\n",
        "Example : Input - 4500\n",
        "\n",
        "Output - Bring down to 1000\n",
        "\n",
        "Example : Input - 6500\n",
        "\n",
        "Output - Turn Around"
      ]
    },
    {
      "cell_type": "code",
      "metadata": {
        "id": "cHFJbtZrn9d2",
        "colab_type": "code",
        "colab": {
          "base_uri": "https://localhost:8080/",
          "height": 51
        },
        "outputId": "da841774-ea3f-40b7-ff3e-4e7b525a6888"
      },
      "source": [
        "altitude=int(input(\"Enter the altitude in feets :\"))#input of altitude in feets\n",
        "if altitude<=1000:#altitude is less then equal to 50 feets\n",
        "    print(\"You are safe to land\") #print you are safe to land\n",
        "elif altitude<=5000 and altitude>1000: #altitude is greater than 1000 and less then 5000\n",
        "    print(\"Come down to 1000ft\")#print Come down to 1000 feets\n",
        "elif alitude>5000:#altitude is greater than 5000 \n",
        "    print(\"Go around and try after some time\")#print Go around and try after some time"
      ],
      "execution_count": 2,
      "outputs": [
        {
          "output_type": "stream",
          "text": [
            "Enter the altitude in feets :3580\n",
            "Come down to 1000ft\n"
          ],
          "name": "stdout"
        }
      ]
    },
    {
      "cell_type": "markdown",
      "metadata": {
        "id": "DZUc9xYGqqNa",
        "colab_type": "text"
      },
      "source": [
        "**Question 2**\n",
        "\n",
        "Using for loop please print all the prime numbers between 1- 200 using FOR LOOP AND RANGE\n",
        "function.\n",
        "\n",
        "Output-\n",
        "\n",
        "2,3,5,7….."
      ]
    },
    {
      "cell_type": "code",
      "metadata": {
        "id": "WAOf--7kq_Os",
        "colab_type": "code",
        "colab": {
          "base_uri": "https://localhost:8080/",
          "height": 54
        },
        "outputId": "8c8fc1cb-313f-49ca-ee46-8eae889f6509"
      },
      "source": [
        "for num in range(1,201):  #loop  in range 1 to 200\n",
        "   if num > 1:  #if num is greater than 1\n",
        "       for i in range(2,num):  #loop in range of 2 and num for division  \n",
        "           if num % i== 0:  #if num/i  in which the reminder should be 0\n",
        "               break          #if num%i is equal to 0 then break the loop bcaz the num is not prime number\n",
        "       else:  \n",
        "           print(num,end=\",\")  #if   inner loop is not break then the num is price and end with comma"
      ],
      "execution_count": 5,
      "outputs": [
        {
          "output_type": "stream",
          "text": [
            "2,3,5,7,11,13,17,19,23,29,31,37,41,43,47,53,59,61,67,71,73,79,83,89,97,101,103,107,109,113,127,131,137,139,149,151,157,163,167,173,179,181,191,193,197,199,"
          ],
          "name": "stdout"
        }
      ]
    }
  ]
}