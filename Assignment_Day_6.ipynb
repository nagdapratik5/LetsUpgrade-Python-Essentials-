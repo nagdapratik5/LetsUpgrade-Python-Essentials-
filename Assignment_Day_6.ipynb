{
  "nbformat": 4,
  "nbformat_minor": 0,
  "metadata": {
    "colab": {
      "name": "Assignment Day 6.ipynb",
      "provenance": []
    },
    "kernelspec": {
      "name": "python3",
      "display_name": "Python 3"
    }
  },
  "cells": [
    {
      "cell_type": "markdown",
      "metadata": {
        "id": "sAwBPN_n-IAW",
        "colab_type": "text"
      },
      "source": [
        "**Question 1**\n",
        "For this challenge,create a bank account class that has two attributes\n",
        "*ownerName\n",
        "\n",
        "*Balance\n",
        "\n",
        "And two methods\n",
        "\n",
        "*deposit\n",
        "\n",
        "*withdraw\n",
        "\n",
        "As an added requirement,withdrawals may not exceed the available balance.\n",
        "Instantiate your class,make several deposits and withdrawals,and test to make sure the account\n",
        "cant be overdrawn."
      ]
    },
    {
      "cell_type": "code",
      "metadata": {
        "id": "LkXordi5-55B",
        "colab_type": "code",
        "colab": {
          "base_uri": "https://localhost:8080/",
          "height": 119
        },
        "outputId": "dd8653ce-f087-47cb-c26b-10845a50e266"
      },
      "source": [
        "\n",
        "class bankAccount:\n",
        "\n",
        "  ownerName = \"Pratik\"\n",
        "  balance = 5000\n",
        "\n",
        "  def deposit(self, amt):\n",
        "    self.balance = self.balance + amt\n",
        "    print (self.balance)\n",
        "  def withdraw(self, amt):\n",
        "    if(amt > self.balance):\n",
        "      print (\"Amount\", amt, \"can not be overdrawn. Balance:\", self.balance)\n",
        "    else:\n",
        "      self.balance = self.balance - amt\n",
        "      print (self.balance)\n",
        "\n",
        "obj = bankAccount()\n",
        "\n",
        "obj.deposit(200)\n",
        "\n",
        "obj.withdraw(1000)\n",
        "obj.deposit(300)\n",
        "obj.withdraw(1500)\n",
        "obj.withdraw(1000)\n",
        "obj.withdraw(4000)"
      ],
      "execution_count": 2,
      "outputs": [
        {
          "output_type": "stream",
          "text": [
            "5200\n",
            "4200\n",
            "4500\n",
            "3000\n",
            "2000\n",
            "Amount 4000 can not be overdrawn. Balance: 2000\n"
          ],
          "name": "stdout"
        }
      ]
    },
    {
      "cell_type": "markdown",
      "metadata": {
        "id": "rbW6-uKbAVZm",
        "colab_type": "text"
      },
      "source": [
        "**Question 2**\n",
        "\n",
        "For this challenge,create a cone class that has two attributes:\n",
        "\n",
        "*R=Radius\n",
        "\n",
        "*h=Height\n",
        "And two methods:\n",
        "\n",
        "*Volume = Π * r2 = (h/3)\n",
        "\n",
        "*Surface area : base : Π * r2 , side : Π * r * √(r2 + h2)\n",
        "\n",
        "Make only one class with functions,as in where required import Math"
      ]
    },
    {
      "cell_type": "code",
      "metadata": {
        "id": "P_GJVaezBP_z",
        "colab_type": "code",
        "colab": {
          "base_uri": "https://localhost:8080/",
          "height": 51
        },
        "outputId": "7b53f67e-be17-4f37-994a-5785debe81c4"
      },
      "source": [
        "import math as m\n",
        "class cone: \n",
        "  R = 5\n",
        "  h = 4\n",
        "  def volume(self): \n",
        "    vol = (m.pi * (self.R ** 2) * self.h) / 3\n",
        "    print (\"Volume:\", round(vol, 2))\n",
        "  def surface_area(self):\n",
        "    base = m.pi * (self.R ** 2)\n",
        "    side = m.pi * self.R * (m.sqrt(self.R ** 2 + self.h ** 2))\n",
        "    print (\"Surface Area:\", round(base + side, 2))\n",
        "obj = cone()\n",
        "obj.volume()\n",
        "obj.surface_area()"
      ],
      "execution_count": 3,
      "outputs": [
        {
          "output_type": "stream",
          "text": [
            "Volume: 104.72\n",
            "Surface Area: 179.12\n"
          ],
          "name": "stdout"
        }
      ]
    }
  ]
}