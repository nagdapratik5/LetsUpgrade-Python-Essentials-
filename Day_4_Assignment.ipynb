{
  "nbformat": 4,
  "nbformat_minor": 0,
  "metadata": {
    "colab": {
      "name": "Day 4 Assignment ",
      "provenance": []
    },
    "kernelspec": {
      "name": "python3",
      "display_name": "Python 3"
    }
  },
  "cells": [
    {
      "cell_type": "markdown",
      "metadata": {
        "id": "aDbTnImZbduA",
        "colab_type": "text"
      },
      "source": [
        "**Question 1**\n",
        "\n",
        "Print the first ArmStrong number in the range of 1042000 to 702648265 and exit the loop as soon\n",
        "as you encounter the first armstrong number.\n",
        "\n",
        "Use while loop\n",
        "\n",
        "Output-The first armstrong number is -----------"
      ]
    },
    {
      "cell_type": "code",
      "metadata": {
        "id": "y84AahuWZRMy",
        "colab_type": "code",
        "colab": {
          "base_uri": "https://localhost:8080/",
          "height": 34
        },
        "outputId": "5673f718-a01a-40d8-b98e-da86bd7f1017"
      },
      "source": [
        "for num in range(1042000,702648266):\n",
        "   order = len(str(num))   # order of number\n",
        "   sum = 0 # initialize sum\n",
        "   temp = num #copy num to temp\n",
        "   while temp > 0: #temp should greater than zero\n",
        "       digit = temp % 10 #remove last digit from temp by modulus operator\n",
        "       sum += digit ** order# multiply digit by order of number \n",
        "       temp //= 10 #remove last digit num\n",
        "\n",
        "   if num == sum:#if temp is equal to sum\n",
        "       print('The first armstrong number is',num) #if true print the number and break from loop\n",
        "       break"
      ],
      "execution_count": 2,
      "outputs": [
        {
          "output_type": "stream",
          "text": [
            "The first armstrong number is 1741725\n"
          ],
          "name": "stdout"
        }
      ]
    }
  ]
}